{
  "nbformat": 4,
  "nbformat_minor": 0,
  "metadata": {
    "colab": {
      "provenance": []
    },
    "kernelspec": {
      "name": "python3",
      "display_name": "Python 3"
    },
    "language_info": {
      "name": "python"
    }
  },
  "cells": [
    {
      "cell_type": "markdown",
      "source": [
        "# Limpeza\n"
      ],
      "metadata": {
        "id": "QjsWrEQu-TFB"
      }
    },
    {
      "cell_type": "code",
      "source": [
        "import pandas as pd\n",
        "\n",
        "df = pd.read_csv('Crash_Data.csv')\n",
        "\n",
        "print(df.head())\n",
        "df_backup = df.copy()"
      ],
      "metadata": {
        "colab": {
          "base_uri": "https://localhost:8080/"
        },
        "collapsed": true,
        "id": "Y4KmZQerEtWh",
        "outputId": "97fad2a2-2b2a-49d4-8a3f-f7e89bb6d1ef"
      },
      "execution_count": null,
      "outputs": [
        {
          "output_type": "stream",
          "name": "stdout",
          "text": [
            "   Crash ID State  Month  Year   Dayweek   Time Crash Type Bus Involvement  \\\n",
            "0  20212133   Vic      9  2021    Sunday   0:30     Single             NaN   \n",
            "1  20214022    SA      9  2021  Saturday  23:31   Multiple              No   \n",
            "2  20212096   Vic      9  2021  Saturday  23:00     Single             NaN   \n",
            "3  20212145   Vic      9  2021  Saturday  22:25     Single             NaN   \n",
            "4  20212075   Vic      9  2021  Saturday   5:15     Single             NaN   \n",
            "\n",
            "  Heavy Rigid Truck Involvement Articulated Truck Involvement  ... Age  \\\n",
            "0                           NaN                           NaN  ...  38   \n",
            "1                            No                            No  ...  28   \n",
            "2                           NaN                           NaN  ...  19   \n",
            "3                           NaN                           NaN  ...  23   \n",
            "4                           NaN                           NaN  ...  46   \n",
            "\n",
            "   National Remoteness Areas           SA4 Name 2016  National LGA Name 2017  \\\n",
            "0   Inner Regional Australia  Melbourne - Outer East        Yarra Ranges (S)   \n",
            "1  Major Cities of Australia        Adelaide - North            Playford (C)   \n",
            "2   Inner Regional Australia                    Hume         Wangaratta (RC)   \n",
            "3   Outer Regional Australia                    Hume         Wangaratta (RC)   \n",
            "4  Major Cities of Australia  Melbourne - South East               Casey (C)   \n",
            "\n",
            "  National Road Type Christmas Period Easter Period Age Group Day of week  \\\n",
            "0      Arterial Road               No            No  26_to_39     Weekend   \n",
            "1                NaN               No            No  26_to_39     Weekend   \n",
            "2        Access road               No            No  17_to_25     Weekend   \n",
            "3      Arterial Road               No            No  17_to_25     Weekend   \n",
            "4         Local Road               No            No  40_to_64     Weekend   \n",
            "\n",
            "  Time of day  \n",
            "0       Night  \n",
            "1       Night  \n",
            "2       Night  \n",
            "3       Night  \n",
            "4       Night  \n",
            "\n",
            "[5 rows x 23 columns]\n"
          ]
        },
        {
          "output_type": "stream",
          "name": "stderr",
          "text": [
            "/tmp/ipython-input-523995822.py:3: DtypeWarning: Columns (10,14,15,16,17) have mixed types. Specify dtype option on import or set low_memory=False.\n",
            "  df = pd.read_csv('Crash_Data.csv')\n"
          ]
        }
      ]
    },
    {
      "cell_type": "markdown",
      "source": [],
      "metadata": {
        "id": "A9P5LNx2-SRg"
      }
    },
    {
      "cell_type": "code",
      "source": [
        "print(df.columns.tolist())\n",
        "mapping = {\n",
        "    'Crash ID': 'ID_Acidente',\n",
        "    'State': 'Estado',\n",
        "    'Month': 'Mes',\n",
        "    'Year': 'Ano',\n",
        "    'Dayweek': 'Dia_Semana',\n",
        "    'Time': 'Horario',\n",
        "    'Crash Type': 'Tipo_Acidente',\n",
        "    'Bus Involvement': 'Envolvimento_Onibus',\n",
        "    'Heavy Rigid Truck Involvement': 'Envolvimento_Caminhao_Pesado_Rigido',\n",
        "    'Articulated Truck Involvement': 'Envolvimento_Caminhao_Articulado',\n",
        "    'Speed Limit': 'Limite_Velocidade',\n",
        "    'Road User': 'Usuario_Via',\n",
        "    'Gender': 'Genero',\n",
        "    'Age': 'Idade',\n",
        "    'National Remoteness Areas': 'Areas_Remotas_Nacionais',\n",
        "    'SA4 Name 2016': 'Regiao_SA4_2016',\n",
        "    'National LGA Name 2017': 'Municipio_LGA_2017',\n",
        "    'National Road Type': 'Tipo_Rodovia_Nacional',\n",
        "    'Christmas Period': 'Periodo_Natal',\n",
        "    'Easter Period': 'Periodo_Pascoa',\n",
        "    'Age Group': 'Faixa_Etaria',\n",
        "    'Day of week': 'Dia_da_Semana',\n",
        "    'Time of day': 'Periodo_do_Dia'\n",
        "}\n",
        "\n",
        "# aplicar no seu DataFrame\n",
        "df = df.rename(columns=mapping)\n",
        "\n",
        "# confirmar\n",
        "print(df.columns.tolist())\n"
      ],
      "metadata": {
        "colab": {
          "base_uri": "https://localhost:8080/"
        },
        "id": "rEGvQPzX5sqW",
        "outputId": "c4c11479-7964-431f-df92-0d760aad73a0"
      },
      "execution_count": null,
      "outputs": [
        {
          "output_type": "stream",
          "name": "stdout",
          "text": [
            "['Crash ID', 'State', 'Month', 'Year', 'Dayweek', 'Time', 'Crash Type', 'Bus Involvement', 'Heavy Rigid Truck Involvement', 'Articulated Truck Involvement', 'Speed Limit', 'Road User', 'Gender', 'Age', 'National Remoteness Areas', 'SA4 Name 2016', 'National LGA Name 2017', 'National Road Type', 'Christmas Period', 'Easter Period', 'Age Group', 'Day of week', 'Time of day']\n",
            "['ID_Acidente', 'Estado', 'Mes', 'Ano', 'Dia_Semana', 'Horario', 'Tipo_Acidente', 'Envolvimento_Onibus', 'Envolvimento_Caminhao_Pesado_Rigido', 'Envolvimento_Caminhao_Articulado', 'Limite_Velocidade', 'Usuario_Via', 'Genero', 'Idade', 'Areas_Remotas_Nacionais', 'Regiao_SA4_2016', 'Municipio_LGA_2017', 'Tipo_Rodovia_Nacional', 'Periodo_Natal', 'Periodo_Pascoa', 'Faixa_Etaria', 'Dia_da_Semana', 'Periodo_do_Dia']\n"
          ]
        }
      ]
    },
    {
      "cell_type": "code",
      "source": [
        "# backup\n",
        "df_backup = df.copy()\n",
        "\n",
        "# resumo rápido de nulos (nº e %)\n",
        "missing_count = df.isnull().sum()\n",
        "missing_pct = (df.isnull().mean() * 100).round(2)\n",
        "print(missing_count)\n",
        "print(missing_pct)\n"
      ],
      "metadata": {
        "colab": {
          "base_uri": "https://localhost:8080/"
        },
        "id": "YD7pdRhW7SEi",
        "outputId": "183363c0-af22-4ca3-fe4d-4d3bb2711638"
      },
      "execution_count": null,
      "outputs": [
        {
          "output_type": "stream",
          "name": "stdout",
          "text": [
            "ID_Acidente                                0\n",
            "Estado                                     0\n",
            "Mes                                        0\n",
            "Ano                                        0\n",
            "Dia_Semana                                 0\n",
            "Horario                                   40\n",
            "Tipo_Acidente                              0\n",
            "Envolvimento_Onibus                       22\n",
            "Envolvimento_Caminhao_Pesado_Rigido    20515\n",
            "Envolvimento_Caminhao_Articulado          22\n",
            "Limite_Velocidade                        702\n",
            "Usuario_Via                                0\n",
            "Genero                                    27\n",
            "Idade                                      0\n",
            "Areas_Remotas_Nacionais                45965\n",
            "Regiao_SA4_2016                        45951\n",
            "Municipio_LGA_2017                     45950\n",
            "Tipo_Rodovia_Nacional                  45966\n",
            "Periodo_Natal                              0\n",
            "Periodo_Pascoa                             0\n",
            "Faixa_Etaria                              90\n",
            "Dia_da_Semana                              0\n",
            "Periodo_do_Dia                             0\n",
            "dtype: int64\n",
            "ID_Acidente                             0.00\n",
            "Estado                                  0.00\n",
            "Mes                                     0.00\n",
            "Ano                                     0.00\n",
            "Dia_Semana                              0.00\n",
            "Horario                                 0.08\n",
            "Tipo_Acidente                           0.00\n",
            "Envolvimento_Onibus                     0.04\n",
            "Envolvimento_Caminhao_Pesado_Rigido    38.82\n",
            "Envolvimento_Caminhao_Articulado        0.04\n",
            "Limite_Velocidade                       1.33\n",
            "Usuario_Via                             0.00\n",
            "Genero                                  0.05\n",
            "Idade                                   0.00\n",
            "Areas_Remotas_Nacionais                86.98\n",
            "Regiao_SA4_2016                        86.96\n",
            "Municipio_LGA_2017                     86.96\n",
            "Tipo_Rodovia_Nacional                  86.99\n",
            "Periodo_Natal                           0.00\n",
            "Periodo_Pascoa                          0.00\n",
            "Faixa_Etaria                            0.17\n",
            "Dia_da_Semana                           0.00\n",
            "Periodo_do_Dia                          0.00\n",
            "dtype: float64\n"
          ]
        }
      ]
    },
    {
      "cell_type": "code",
      "source": [
        "# remover linhas totalmente vazias\n",
        "df = df.dropna(how='all')\n",
        "\n",
        "# detectar e remover colunas com >80% missing\n",
        "threshold = 0.8\n",
        "high_missing_cols = df.columns[df.isnull().mean() > threshold].tolist()\n",
        "print(\"Colunas com mais de 80% missing (serão removidas):\", high_missing_cols)\n",
        "\n",
        "df = df.drop(columns=high_missing_cols)\n"
      ],
      "metadata": {
        "colab": {
          "base_uri": "https://localhost:8080/"
        },
        "id": "Pfeh087I7W6S",
        "outputId": "5bd1a463-4f7d-45cc-9d4b-72a4c40d136c"
      },
      "execution_count": null,
      "outputs": [
        {
          "output_type": "stream",
          "name": "stdout",
          "text": [
            "Colunas com mais de 80% missing (serão removidas): ['Areas_Remotas_Nacionais', 'Regiao_SA4_2016', 'Municipio_LGA_2017', 'Tipo_Rodovia_Nacional']\n"
          ]
        }
      ]
    },
    {
      "cell_type": "code",
      "source": [
        "gender_map = {\n",
        "    'Male':'Masculino','male':'Masculino','M':'Masculino','m':'Masculino',\n",
        "    'Female':'Feminino','female':'Feminino','F':'Feminino','f':'Feminino',\n",
        "    'Unknown':'Desconhecido','unknown':'Desconhecido'\n",
        "}\n",
        "\n",
        "if 'Genero' in df.columns:\n",
        "    df['Genero'] = df['Genero'].replace(gender_map)\n",
        "    df['Genero'] = df['Genero'].fillna('Desconhecido')\n",
        "    print(\"Valores únicos em Genero:\", df['Genero'].unique()[:20])\n"
      ],
      "metadata": {
        "colab": {
          "base_uri": "https://localhost:8080/"
        },
        "id": "OcDFz9BD7vLh",
        "outputId": "317743fa-fac4-4bff-91f9-4e43b7836290"
      },
      "execution_count": null,
      "outputs": [
        {
          "output_type": "stream",
          "name": "stdout",
          "text": [
            "Valores únicos em Genero: ['Masculino' 'Feminino' 'Desconhecido' 'Unspecified']\n"
          ]
        }
      ]
    },
    {
      "cell_type": "code",
      "source": [
        "# duplicatas por ID_Acidente\n",
        "if 'ID_Acidente' in df.columns:\n",
        "    dups = df.duplicated(subset=['ID_Acidente']).sum()\n",
        "    print(\"Duplicatas por ID_Acidente:\", dups)\n",
        "    if dups > 0:\n",
        "        df = df.drop_duplicates(subset=['ID_Acidente'])\n",
        "        print(\"Removidas duplicatas com base em ID_Acidente.\")\n",
        "\n",
        "# checar se 'Dia_Semana' e 'Dia_da_Semana' são iguais (mantenha só uma)\n",
        "if ('Dia_Semana' in df.columns) and ('Dia_da_Semana' in df.columns):\n",
        "    if df['Dia_Semana'].equals(df['Dia_da_Semana']):\n",
        "        df = df.drop(columns=['Dia_da_Semana'])\n",
        "        print(\"Coluna 'Dia_da_Semana' removida (igual a 'Dia_Semana').\")\n",
        "    else:\n",
        "        print(\"As colunas de dia da semana são diferentes — mantidas ambas.\")\n"
      ],
      "metadata": {
        "colab": {
          "base_uri": "https://localhost:8080/"
        },
        "id": "twAmVQAP72kp",
        "outputId": "a2e8dcc0-db93-4c90-a812-038c26578670"
      },
      "execution_count": null,
      "outputs": [
        {
          "output_type": "stream",
          "name": "stdout",
          "text": [
            "Duplicatas por ID_Acidente: 5276\n",
            "Removidas duplicatas com base em ID_Acidente.\n",
            "As colunas de dia da semana são diferentes — mantidas ambas.\n"
          ]
        }
      ]
    },
    {
      "cell_type": "code",
      "source": [
        "invol_cols = [\n",
        "    'Envolvimento_Onibus',\n",
        "    'Envolvimento_Caminhao_Pesado_Rigido',\n",
        "    'Envolvimento_Caminhao_Articulado'\n",
        "]\n",
        "\n",
        "yesno_map = {\n",
        "    'Yes':'Sim','YES':'Sim','yes':'Sim','Y':'Sim','y':'Sim', 1:'Sim', True:'Sim',\n",
        "    'No':'Nao','NO':'Nao','no':'Nao','N':'Nao','n':'Nao', 0:'Nao', False:'Nao',\n",
        "    'Unknown':'Desconhecido','unknown':'Desconhecido', 'NaN':'Desconhecido'\n",
        "}\n",
        "\n",
        "for col in invol_cols:\n",
        "    if col in df.columns:\n",
        "        df[col] = df[col].replace(yesno_map)\n",
        "        miss_pct = df[col].isnull().mean()\n",
        "        if miss_pct > 0.2:\n",
        "            df[col] = df[col].fillna('Desconhecido')\n",
        "        else:\n",
        "            df[col] = df[col].fillna('Nao')\n",
        "        print(f\"{col} - missing após preenchimento: {df[col].isnull().sum()}\")\n"
      ],
      "metadata": {
        "colab": {
          "base_uri": "https://localhost:8080/"
        },
        "id": "6Ud9oAQU8XaI",
        "outputId": "6977dbbe-9e15-405c-f0ea-bb092d8d0e1e"
      },
      "execution_count": null,
      "outputs": [
        {
          "output_type": "stream",
          "name": "stdout",
          "text": [
            "Envolvimento_Onibus - missing após preenchimento: 0\n",
            "Envolvimento_Caminhao_Pesado_Rigido - missing após preenchimento: 0\n",
            "Envolvimento_Caminhao_Articulado - missing após preenchimento: 0\n"
          ]
        }
      ]
    },
    {
      "cell_type": "code",
      "source": [
        "# converter para numérico\n",
        "import numpy as np\n",
        "df['Limite_Velocidade'] = pd.to_numeric(df['Limite_Velocidade'], errors='coerce')\n",
        "\n",
        "# valores absurdos (<=0 ou >200) => NaN\n",
        "df.loc[(df['Limite_Velocidade'] <= 0) | (df['Limite_Velocidade'] > 200), 'Limite_Velocidade'] = np.nan\n",
        "\n",
        "# preencher com mediana\n",
        "median_speed = df['Limite_Velocidade'].median()\n",
        "print(\"Mediana de Limite_Velocidade:\", median_speed)\n",
        "df['Limite_Velocidade'] = df['Limite_Velocidade'].fillna(median_speed)"
      ],
      "metadata": {
        "colab": {
          "base_uri": "https://localhost:8080/"
        },
        "id": "goFTwEZw8eO5",
        "outputId": "692ae16c-fa07-4db5-98d9-4f671463ea00"
      },
      "execution_count": null,
      "outputs": [
        {
          "output_type": "stream",
          "name": "stdout",
          "text": [
            "Mediana de Limite_Velocidade: 80.0\n"
          ]
        }
      ]
    },
    {
      "cell_type": "code",
      "source": [
        "gender_map = {\n",
        "    'Male': 'Masculino', 'M': 'Masculino',\n",
        "    'Female': 'Feminino', 'F': 'Feminino',\n",
        "    'Unknown': 'Desconhecido'\n",
        "}\n",
        "df['Genero'] = df['Genero'].replace(gender_map)\n"
      ],
      "metadata": {
        "id": "Ddxu6efa9N4Y"
      },
      "execution_count": null,
      "outputs": []
    },
    {
      "cell_type": "code",
      "source": [
        "dayweek_map = {\n",
        "    'Monday': 'Segunda-feira',\n",
        "    'Tuesday': 'Terca-feira',\n",
        "    'Wednesday': 'Quarta-feira',\n",
        "    'Thursday': 'Quinta-feira',\n",
        "    'Friday': 'Sexta-feira',\n",
        "    'Saturday': 'Sabado',\n",
        "    'Sunday': 'Domingo'\n",
        "}\n",
        "df['Dia_da_Semana'] = df['Dia_da_Semana'].replace(dayweek_map)\n",
        "timeofday_map = {\n",
        "    'Morning': 'Manha',\n",
        "    'Afternoon': 'Tarde',\n",
        "    'Evening': 'Noite',\n",
        "    'Night': 'Madrugada'\n",
        "}\n",
        "df['Periodo_do_Dia'] = df['Periodo_do_Dia'].replace(timeofday_map)\n"
      ],
      "metadata": {
        "id": "4dycupw19jOY"
      },
      "execution_count": null,
      "outputs": []
    },
    {
      "cell_type": "code",
      "source": [
        "print(df['Limite_Velocidade'].head())   # primeiros 5\n",
        "print(df['Limite_Velocidade'].tail())   # últimos 5"
      ],
      "metadata": {
        "colab": {
          "base_uri": "https://localhost:8080/"
        },
        "id": "I0EH1UWQqxHr",
        "outputId": "1b5e1418-66c9-4772-f9ed-4fe9a6eda7bf"
      },
      "execution_count": null,
      "outputs": [
        {
          "output_type": "stream",
          "name": "stdout",
          "text": [
            "0     80.0\n",
            "1    110.0\n",
            "2     80.0\n",
            "3     80.0\n",
            "4     80.0\n",
            "Name: Limite_Velocidade, dtype: float64\n",
            "52834     80.0\n",
            "52837     60.0\n",
            "52838     60.0\n",
            "52839    110.0\n",
            "52842     60.0\n",
            "Name: Limite_Velocidade, dtype: float64\n"
          ]
        }
      ]
    },
    {
      "cell_type": "code",
      "source": [
        "# resumo rápido de nulos (nº e %)\n",
        "missing_count = df.isnull().sum()\n",
        "missing_pct = (df.isnull().mean() * 100).round(2)\n",
        "print(missing_count)\n",
        "print(missing_pct)"
      ],
      "metadata": {
        "colab": {
          "base_uri": "https://localhost:8080/"
        },
        "id": "79klOHOG866g",
        "outputId": "33c6631f-ae0c-4dab-9e69-f5a9920bab21"
      },
      "execution_count": null,
      "outputs": [
        {
          "output_type": "stream",
          "name": "stdout",
          "text": [
            "ID_Acidente                             0\n",
            "Estado                                  0\n",
            "Mes                                     0\n",
            "Ano                                     0\n",
            "Dia_Semana                              0\n",
            "Horario                                36\n",
            "Tipo_Acidente                           0\n",
            "Envolvimento_Onibus                     0\n",
            "Envolvimento_Caminhao_Pesado_Rigido     0\n",
            "Envolvimento_Caminhao_Articulado        0\n",
            "Limite_Velocidade                       0\n",
            "Usuario_Via                             0\n",
            "Genero                                  0\n",
            "Idade                                   0\n",
            "Periodo_Natal                           0\n",
            "Periodo_Pascoa                          0\n",
            "Faixa_Etaria                           64\n",
            "Dia_da_Semana                           0\n",
            "Periodo_do_Dia                          0\n",
            "dtype: int64\n",
            "ID_Acidente                            0.00\n",
            "Estado                                 0.00\n",
            "Mes                                    0.00\n",
            "Ano                                    0.00\n",
            "Dia_Semana                             0.00\n",
            "Horario                                0.08\n",
            "Tipo_Acidente                          0.00\n",
            "Envolvimento_Onibus                    0.00\n",
            "Envolvimento_Caminhao_Pesado_Rigido    0.00\n",
            "Envolvimento_Caminhao_Articulado       0.00\n",
            "Limite_Velocidade                      0.00\n",
            "Usuario_Via                            0.00\n",
            "Genero                                 0.00\n",
            "Idade                                  0.00\n",
            "Periodo_Natal                          0.00\n",
            "Periodo_Pascoa                         0.00\n",
            "Faixa_Etaria                           0.13\n",
            "Dia_da_Semana                          0.00\n",
            "Periodo_do_Dia                         0.00\n",
            "dtype: float64\n"
          ]
        }
      ]
    },
    {
      "cell_type": "code",
      "source": [
        "df.to_csv('/content/drive/MyDrive/datasets/dataset_limpo1.csv', index=False, encoding='utf-8-sig')"
      ],
      "metadata": {
        "id": "diZKvFRz_9v2",
        "colab": {
          "base_uri": "https://localhost:8080/",
          "height": 287
        },
        "outputId": "25bf170c-08d3-4967-d9df-5cf4fba422c2"
      },
      "execution_count": null,
      "outputs": [
        {
          "output_type": "error",
          "ename": "OSError",
          "evalue": "Cannot save file into a non-existent directory: '/content/drive/MyDrive/datasets'",
          "traceback": [
            "\u001b[0;31m---------------------------------------------------------------------------\u001b[0m",
            "\u001b[0;31mOSError\u001b[0m                                   Traceback (most recent call last)",
            "\u001b[0;32m/tmp/ipython-input-2863321857.py\u001b[0m in \u001b[0;36m<cell line: 0>\u001b[0;34m()\u001b[0m\n\u001b[0;32m----> 1\u001b[0;31m \u001b[0mdf\u001b[0m\u001b[0;34m.\u001b[0m\u001b[0mto_csv\u001b[0m\u001b[0;34m(\u001b[0m\u001b[0;34m'/content/drive/MyDrive/datasets/dataset_limpo1.csv'\u001b[0m\u001b[0;34m,\u001b[0m \u001b[0mindex\u001b[0m\u001b[0;34m=\u001b[0m\u001b[0;32mFalse\u001b[0m\u001b[0;34m,\u001b[0m \u001b[0mencoding\u001b[0m\u001b[0;34m=\u001b[0m\u001b[0;34m'utf-8-sig'\u001b[0m\u001b[0;34m)\u001b[0m\u001b[0;34m\u001b[0m\u001b[0;34m\u001b[0m\u001b[0m\n\u001b[0m",
            "\u001b[0;32m/usr/local/lib/python3.12/dist-packages/pandas/util/_decorators.py\u001b[0m in \u001b[0;36mwrapper\u001b[0;34m(*args, **kwargs)\u001b[0m\n\u001b[1;32m    331\u001b[0m                     \u001b[0mstacklevel\u001b[0m\u001b[0;34m=\u001b[0m\u001b[0mfind_stack_level\u001b[0m\u001b[0;34m(\u001b[0m\u001b[0;34m)\u001b[0m\u001b[0;34m,\u001b[0m\u001b[0;34m\u001b[0m\u001b[0;34m\u001b[0m\u001b[0m\n\u001b[1;32m    332\u001b[0m                 )\n\u001b[0;32m--> 333\u001b[0;31m             \u001b[0;32mreturn\u001b[0m \u001b[0mfunc\u001b[0m\u001b[0;34m(\u001b[0m\u001b[0;34m*\u001b[0m\u001b[0margs\u001b[0m\u001b[0;34m,\u001b[0m \u001b[0;34m**\u001b[0m\u001b[0mkwargs\u001b[0m\u001b[0;34m)\u001b[0m\u001b[0;34m\u001b[0m\u001b[0;34m\u001b[0m\u001b[0m\n\u001b[0m\u001b[1;32m    334\u001b[0m \u001b[0;34m\u001b[0m\u001b[0m\n\u001b[1;32m    335\u001b[0m         \u001b[0;31m# error: \"Callable[[VarArg(Any), KwArg(Any)], Any]\" has no\u001b[0m\u001b[0;34m\u001b[0m\u001b[0;34m\u001b[0m\u001b[0m\n",
            "\u001b[0;32m/usr/local/lib/python3.12/dist-packages/pandas/core/generic.py\u001b[0m in \u001b[0;36mto_csv\u001b[0;34m(self, path_or_buf, sep, na_rep, float_format, columns, header, index, index_label, mode, encoding, compression, quoting, quotechar, lineterminator, chunksize, date_format, doublequote, escapechar, decimal, errors, storage_options)\u001b[0m\n\u001b[1;32m   3965\u001b[0m         )\n\u001b[1;32m   3966\u001b[0m \u001b[0;34m\u001b[0m\u001b[0m\n\u001b[0;32m-> 3967\u001b[0;31m         return DataFrameRenderer(formatter).to_csv(\n\u001b[0m\u001b[1;32m   3968\u001b[0m             \u001b[0mpath_or_buf\u001b[0m\u001b[0;34m,\u001b[0m\u001b[0;34m\u001b[0m\u001b[0;34m\u001b[0m\u001b[0m\n\u001b[1;32m   3969\u001b[0m             \u001b[0mlineterminator\u001b[0m\u001b[0;34m=\u001b[0m\u001b[0mlineterminator\u001b[0m\u001b[0;34m,\u001b[0m\u001b[0;34m\u001b[0m\u001b[0;34m\u001b[0m\u001b[0m\n",
            "\u001b[0;32m/usr/local/lib/python3.12/dist-packages/pandas/io/formats/format.py\u001b[0m in \u001b[0;36mto_csv\u001b[0;34m(self, path_or_buf, encoding, sep, columns, index_label, mode, compression, quoting, quotechar, lineterminator, chunksize, date_format, doublequote, escapechar, errors, storage_options)\u001b[0m\n\u001b[1;32m   1012\u001b[0m             \u001b[0mformatter\u001b[0m\u001b[0;34m=\u001b[0m\u001b[0mself\u001b[0m\u001b[0;34m.\u001b[0m\u001b[0mfmt\u001b[0m\u001b[0;34m,\u001b[0m\u001b[0;34m\u001b[0m\u001b[0;34m\u001b[0m\u001b[0m\n\u001b[1;32m   1013\u001b[0m         )\n\u001b[0;32m-> 1014\u001b[0;31m         \u001b[0mcsv_formatter\u001b[0m\u001b[0;34m.\u001b[0m\u001b[0msave\u001b[0m\u001b[0;34m(\u001b[0m\u001b[0;34m)\u001b[0m\u001b[0;34m\u001b[0m\u001b[0;34m\u001b[0m\u001b[0m\n\u001b[0m\u001b[1;32m   1015\u001b[0m \u001b[0;34m\u001b[0m\u001b[0m\n\u001b[1;32m   1016\u001b[0m         \u001b[0;32mif\u001b[0m \u001b[0mcreated_buffer\u001b[0m\u001b[0;34m:\u001b[0m\u001b[0;34m\u001b[0m\u001b[0;34m\u001b[0m\u001b[0m\n",
            "\u001b[0;32m/usr/local/lib/python3.12/dist-packages/pandas/io/formats/csvs.py\u001b[0m in \u001b[0;36msave\u001b[0;34m(self)\u001b[0m\n\u001b[1;32m    249\u001b[0m         \"\"\"\n\u001b[1;32m    250\u001b[0m         \u001b[0;31m# apply compression and byte/text conversion\u001b[0m\u001b[0;34m\u001b[0m\u001b[0;34m\u001b[0m\u001b[0m\n\u001b[0;32m--> 251\u001b[0;31m         with get_handle(\n\u001b[0m\u001b[1;32m    252\u001b[0m             \u001b[0mself\u001b[0m\u001b[0;34m.\u001b[0m\u001b[0mfilepath_or_buffer\u001b[0m\u001b[0;34m,\u001b[0m\u001b[0;34m\u001b[0m\u001b[0;34m\u001b[0m\u001b[0m\n\u001b[1;32m    253\u001b[0m             \u001b[0mself\u001b[0m\u001b[0;34m.\u001b[0m\u001b[0mmode\u001b[0m\u001b[0;34m,\u001b[0m\u001b[0;34m\u001b[0m\u001b[0;34m\u001b[0m\u001b[0m\n",
            "\u001b[0;32m/usr/local/lib/python3.12/dist-packages/pandas/io/common.py\u001b[0m in \u001b[0;36mget_handle\u001b[0;34m(path_or_buf, mode, encoding, compression, memory_map, is_text, errors, storage_options)\u001b[0m\n\u001b[1;32m    747\u001b[0m     \u001b[0;31m# Only for write methods\u001b[0m\u001b[0;34m\u001b[0m\u001b[0;34m\u001b[0m\u001b[0m\n\u001b[1;32m    748\u001b[0m     \u001b[0;32mif\u001b[0m \u001b[0;34m\"r\"\u001b[0m \u001b[0;32mnot\u001b[0m \u001b[0;32min\u001b[0m \u001b[0mmode\u001b[0m \u001b[0;32mand\u001b[0m \u001b[0mis_path\u001b[0m\u001b[0;34m:\u001b[0m\u001b[0;34m\u001b[0m\u001b[0;34m\u001b[0m\u001b[0m\n\u001b[0;32m--> 749\u001b[0;31m         \u001b[0mcheck_parent_directory\u001b[0m\u001b[0;34m(\u001b[0m\u001b[0mstr\u001b[0m\u001b[0;34m(\u001b[0m\u001b[0mhandle\u001b[0m\u001b[0;34m)\u001b[0m\u001b[0;34m)\u001b[0m\u001b[0;34m\u001b[0m\u001b[0;34m\u001b[0m\u001b[0m\n\u001b[0m\u001b[1;32m    750\u001b[0m \u001b[0;34m\u001b[0m\u001b[0m\n\u001b[1;32m    751\u001b[0m     \u001b[0;32mif\u001b[0m \u001b[0mcompression\u001b[0m\u001b[0;34m:\u001b[0m\u001b[0;34m\u001b[0m\u001b[0;34m\u001b[0m\u001b[0m\n",
            "\u001b[0;32m/usr/local/lib/python3.12/dist-packages/pandas/io/common.py\u001b[0m in \u001b[0;36mcheck_parent_directory\u001b[0;34m(path)\u001b[0m\n\u001b[1;32m    614\u001b[0m     \u001b[0mparent\u001b[0m \u001b[0;34m=\u001b[0m \u001b[0mPath\u001b[0m\u001b[0;34m(\u001b[0m\u001b[0mpath\u001b[0m\u001b[0;34m)\u001b[0m\u001b[0;34m.\u001b[0m\u001b[0mparent\u001b[0m\u001b[0;34m\u001b[0m\u001b[0;34m\u001b[0m\u001b[0m\n\u001b[1;32m    615\u001b[0m     \u001b[0;32mif\u001b[0m \u001b[0;32mnot\u001b[0m \u001b[0mparent\u001b[0m\u001b[0;34m.\u001b[0m\u001b[0mis_dir\u001b[0m\u001b[0;34m(\u001b[0m\u001b[0;34m)\u001b[0m\u001b[0;34m:\u001b[0m\u001b[0;34m\u001b[0m\u001b[0;34m\u001b[0m\u001b[0m\n\u001b[0;32m--> 616\u001b[0;31m         \u001b[0;32mraise\u001b[0m \u001b[0mOSError\u001b[0m\u001b[0;34m(\u001b[0m\u001b[0;34mrf\"Cannot save file into a non-existent directory: '{parent}'\"\u001b[0m\u001b[0;34m)\u001b[0m\u001b[0;34m\u001b[0m\u001b[0;34m\u001b[0m\u001b[0m\n\u001b[0m\u001b[1;32m    617\u001b[0m \u001b[0;34m\u001b[0m\u001b[0m\n\u001b[1;32m    618\u001b[0m \u001b[0;34m\u001b[0m\u001b[0m\n",
            "\u001b[0;31mOSError\u001b[0m: Cannot save file into a non-existent directory: '/content/drive/MyDrive/datasets'"
          ]
        }
      ]
    }
  ]
}